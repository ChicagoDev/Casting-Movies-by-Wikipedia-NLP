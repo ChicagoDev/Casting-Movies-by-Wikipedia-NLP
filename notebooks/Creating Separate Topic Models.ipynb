{
 "cells": [
  {
   "cell_type": "code",
   "execution_count": 4,
   "metadata": {},
   "outputs": [],
   "source": [
    "import os\n",
    "import sys\n",
    "module_path = os.path.abspath(os.path.join('../'))\n",
    "if module_path not in sys.path:\n",
    "    sys.path.append(module_path)\n",
    "    \n",
    "from nlp.models import Tfidf, TopicModelSVD\n",
    "from nlp.util import *\n",
    "from wrangling.cast import CastingPool\n",
    "\n",
    "from pymongo import MongoClient\n",
    "from sklearn.cluster import KMeans\n",
    "\n",
    "\n",
    "cpool = CastingPool()\n",
    "\n",
    "\n",
    "## Grab two events\n",
    "event_a = cpool.db.event.find_one({'title': 'Nipplegate'})\n",
    "event_b = cpool.db.event.find_one({'title': 'Clinton-Lewinsky Scandal'})"
   ]
  },
  {
   "cell_type": "code",
   "execution_count": 13,
   "metadata": {},
   "outputs": [],
   "source": [
    "## Grab two sets of roles\n",
    "a_roles = cpool.get_roles(event_a['_id'])\n",
    "b_roles = cpool.get_roles(event_b['_id'])"
   ]
  },
  {
   "cell_type": "code",
   "execution_count": 3,
   "metadata": {},
   "outputs": [],
   "source": [
    "## Grab two casting pools\n",
    "a_cstng_pool = cpool.get_potential_cast(event_a['_id'])\n",
    "b_cstng_pool = cpool.get_potential_cast(event_b['_id'])\n"
   ]
  },
  {
   "cell_type": "code",
   "execution_count": 5,
   "metadata": {},
   "outputs": [],
   "source": [
    "## Topic Model Cast A, Cast B\n",
    "\n",
    "docs_a = [p['stemmed_wiki_doc'] for p in a_cstng_pool]\n",
    "doc_ids_a = [p['_id'] for p in a_cstng_pool]\n",
    "\n",
    "model_a = Tfidf(docs_a, doc_ids_a)\n",
    "topic_model_a = TopicModelSVD(model_a.model, model_a.cv_tfidf)\n",
    "\n",
    "\n",
    "docs_b = [p['stemmed_wiki_doc'] for p in b_cstng_pool]\n",
    "doc_ids_b = [p['_id'] for p in b_cstng_pool]\n",
    "\n",
    "model_b = Tfidf(docs_b, doc_ids_b)\n",
    "topic_model_b = TopicModelSVD(model_b.model, model_b.cv_tfidf)"
   ]
  },
  {
   "cell_type": "code",
   "execution_count": 14,
   "metadata": {},
   "outputs": [],
   "source": [
    "## Topic Model Roles A, Roles B\n",
    "\n",
    "a_roles_topic_mdl = get_SVD_model(a_roles)\n",
    "b_roles_topic_mdl = get_SVD_model(b_roles)"
   ]
  },
  {
   "cell_type": "code",
   "execution_count": 15,
   "metadata": {},
   "outputs": [
    {
     "data": {
      "text/plain": [
       "KMeans(algorithm='auto', copy_x=True, init='k-means++', max_iter=300,\n",
       "    n_clusters=10, n_init=10, n_jobs=None, precompute_distances='auto',\n",
       "    random_state=None, tol=0.0001, verbose=0)"
      ]
     },
     "execution_count": 15,
     "metadata": {},
     "output_type": "execute_result"
    }
   ],
   "source": [
    "## Cluster\n",
    "cpool_a_kmeans = KMeans(n_clusters=10)\n",
    "cpool_b_kmeans = KMeans(n_clusters=10)\n",
    "\n",
    "cpool_a_kmeans.fit(model_a.model)\n",
    "cpool_b_kmeans.fit(model_b.model)\n"
   ]
  },
  {
   "cell_type": "code",
   "execution_count": null,
   "metadata": {},
   "outputs": [],
   "source": [
    "## Match"
   ]
  },
  {
   "cell_type": "code",
   "execution_count": 20,
   "metadata": {},
   "outputs": [],
   "source": [
    "a_roles_tfidf, a_roles_topics = get_SVD_model(a_roles)"
   ]
  },
  {
   "cell_type": "code",
   "execution_count": 25,
   "metadata": {},
   "outputs": [
    {
     "data": {
      "text/html": [
       "<div>\n",
       "<style scoped>\n",
       "    .dataframe tbody tr th:only-of-type {\n",
       "        vertical-align: middle;\n",
       "    }\n",
       "\n",
       "    .dataframe tbody tr th {\n",
       "        vertical-align: top;\n",
       "    }\n",
       "\n",
       "    .dataframe thead th {\n",
       "        text-align: right;\n",
       "    }\n",
       "</style>\n",
       "<table border=\"1\" class=\"dataframe\">\n",
       "  <thead>\n",
       "    <tr style=\"text-align: right;\">\n",
       "      <th></th>\n",
       "      <th>aa</th>\n",
       "      <th>aaa</th>\n",
       "      <th>aaliyah</th>\n",
       "      <th>aaron</th>\n",
       "      <th>ab</th>\n",
       "      <th>abandon</th>\n",
       "      <th>abbi</th>\n",
       "      <th>abbott</th>\n",
       "      <th>abc</th>\n",
       "      <th>abcnews</th>\n",
       "      <th>...</th>\n",
       "      <th>zuniga</th>\n",
       "      <th>zurbrugg</th>\n",
       "      <th>zz</th>\n",
       "      <th>éireann</th>\n",
       "      <th>남자들</th>\n",
       "      <th>빅뱅</th>\n",
       "      <th>빅뱅家의</th>\n",
       "      <th>승리와의</th>\n",
       "      <th>인터뷰</th>\n",
       "      <th>화보</th>\n",
       "    </tr>\n",
       "  </thead>\n",
       "  <tbody>\n",
       "    <tr>\n",
       "      <th>5c6f04ccfc0c4b94ecceef0b</th>\n",
       "      <td>0.001990</td>\n",
       "      <td>0.000000</td>\n",
       "      <td>0.01044</td>\n",
       "      <td>0.001398</td>\n",
       "      <td>0.000000</td>\n",
       "      <td>0.002088</td>\n",
       "      <td>0.002088</td>\n",
       "      <td>0.000000</td>\n",
       "      <td>0.004706</td>\n",
       "      <td>0.000000</td>\n",
       "      <td>...</td>\n",
       "      <td>0.004176</td>\n",
       "      <td>0.000000</td>\n",
       "      <td>0.000000</td>\n",
       "      <td>0.00000</td>\n",
       "      <td>0.00000</td>\n",
       "      <td>0.00000</td>\n",
       "      <td>0.00000</td>\n",
       "      <td>0.00000</td>\n",
       "      <td>0.00000</td>\n",
       "      <td>0.00000</td>\n",
       "    </tr>\n",
       "    <tr>\n",
       "      <th>5c6f04ccfc0c4b94ecceef0c</th>\n",
       "      <td>0.001944</td>\n",
       "      <td>0.001646</td>\n",
       "      <td>0.00000</td>\n",
       "      <td>0.000000</td>\n",
       "      <td>0.000000</td>\n",
       "      <td>0.000000</td>\n",
       "      <td>0.000000</td>\n",
       "      <td>0.000000</td>\n",
       "      <td>0.002298</td>\n",
       "      <td>0.000000</td>\n",
       "      <td>...</td>\n",
       "      <td>0.000000</td>\n",
       "      <td>0.000000</td>\n",
       "      <td>0.000000</td>\n",
       "      <td>0.00204</td>\n",
       "      <td>0.00204</td>\n",
       "      <td>0.00204</td>\n",
       "      <td>0.00204</td>\n",
       "      <td>0.00204</td>\n",
       "      <td>0.00204</td>\n",
       "      <td>0.00204</td>\n",
       "    </tr>\n",
       "    <tr>\n",
       "      <th>5c6f04ccfc0c4b94ecceef0d</th>\n",
       "      <td>0.005258</td>\n",
       "      <td>0.000000</td>\n",
       "      <td>0.00000</td>\n",
       "      <td>0.002463</td>\n",
       "      <td>0.003678</td>\n",
       "      <td>0.000000</td>\n",
       "      <td>0.000000</td>\n",
       "      <td>0.000000</td>\n",
       "      <td>0.002072</td>\n",
       "      <td>0.000000</td>\n",
       "      <td>...</td>\n",
       "      <td>0.000000</td>\n",
       "      <td>0.000000</td>\n",
       "      <td>0.003678</td>\n",
       "      <td>0.00000</td>\n",
       "      <td>0.00000</td>\n",
       "      <td>0.00000</td>\n",
       "      <td>0.00000</td>\n",
       "      <td>0.00000</td>\n",
       "      <td>0.00000</td>\n",
       "      <td>0.00000</td>\n",
       "    </tr>\n",
       "    <tr>\n",
       "      <th>5c6f04ccfc0c4b94ecceef0e</th>\n",
       "      <td>0.009267</td>\n",
       "      <td>0.000000</td>\n",
       "      <td>0.00000</td>\n",
       "      <td>0.000000</td>\n",
       "      <td>0.000000</td>\n",
       "      <td>0.000000</td>\n",
       "      <td>0.000000</td>\n",
       "      <td>0.000000</td>\n",
       "      <td>0.021914</td>\n",
       "      <td>0.000000</td>\n",
       "      <td>...</td>\n",
       "      <td>0.000000</td>\n",
       "      <td>0.000000</td>\n",
       "      <td>0.000000</td>\n",
       "      <td>0.00000</td>\n",
       "      <td>0.00000</td>\n",
       "      <td>0.00000</td>\n",
       "      <td>0.00000</td>\n",
       "      <td>0.00000</td>\n",
       "      <td>0.00000</td>\n",
       "      <td>0.00000</td>\n",
       "    </tr>\n",
       "    <tr>\n",
       "      <th>5c6f04ccfc0c4b94ecceef0f</th>\n",
       "      <td>0.000874</td>\n",
       "      <td>0.000740</td>\n",
       "      <td>0.00000</td>\n",
       "      <td>0.004914</td>\n",
       "      <td>0.000000</td>\n",
       "      <td>0.000000</td>\n",
       "      <td>0.000000</td>\n",
       "      <td>0.000917</td>\n",
       "      <td>0.000000</td>\n",
       "      <td>0.000917</td>\n",
       "      <td>...</td>\n",
       "      <td>0.000000</td>\n",
       "      <td>0.000917</td>\n",
       "      <td>0.000000</td>\n",
       "      <td>0.00000</td>\n",
       "      <td>0.00000</td>\n",
       "      <td>0.00000</td>\n",
       "      <td>0.00000</td>\n",
       "      <td>0.00000</td>\n",
       "      <td>0.00000</td>\n",
       "      <td>0.00000</td>\n",
       "    </tr>\n",
       "  </tbody>\n",
       "</table>\n",
       "<p>5 rows × 8115 columns</p>\n",
       "</div>"
      ],
      "text/plain": [
       "                                aa       aaa  aaliyah     aaron        ab  \\\n",
       "5c6f04ccfc0c4b94ecceef0b  0.001990  0.000000  0.01044  0.001398  0.000000   \n",
       "5c6f04ccfc0c4b94ecceef0c  0.001944  0.001646  0.00000  0.000000  0.000000   \n",
       "5c6f04ccfc0c4b94ecceef0d  0.005258  0.000000  0.00000  0.002463  0.003678   \n",
       "5c6f04ccfc0c4b94ecceef0e  0.009267  0.000000  0.00000  0.000000  0.000000   \n",
       "5c6f04ccfc0c4b94ecceef0f  0.000874  0.000740  0.00000  0.004914  0.000000   \n",
       "\n",
       "                           abandon      abbi    abbott       abc   abcnews  \\\n",
       "5c6f04ccfc0c4b94ecceef0b  0.002088  0.002088  0.000000  0.004706  0.000000   \n",
       "5c6f04ccfc0c4b94ecceef0c  0.000000  0.000000  0.000000  0.002298  0.000000   \n",
       "5c6f04ccfc0c4b94ecceef0d  0.000000  0.000000  0.000000  0.002072  0.000000   \n",
       "5c6f04ccfc0c4b94ecceef0e  0.000000  0.000000  0.000000  0.021914  0.000000   \n",
       "5c6f04ccfc0c4b94ecceef0f  0.000000  0.000000  0.000917  0.000000  0.000917   \n",
       "\n",
       "                           ...       zuniga  zurbrugg        zz  éireann  \\\n",
       "5c6f04ccfc0c4b94ecceef0b   ...     0.004176  0.000000  0.000000  0.00000   \n",
       "5c6f04ccfc0c4b94ecceef0c   ...     0.000000  0.000000  0.000000  0.00204   \n",
       "5c6f04ccfc0c4b94ecceef0d   ...     0.000000  0.000000  0.003678  0.00000   \n",
       "5c6f04ccfc0c4b94ecceef0e   ...     0.000000  0.000000  0.000000  0.00000   \n",
       "5c6f04ccfc0c4b94ecceef0f   ...     0.000000  0.000917  0.000000  0.00000   \n",
       "\n",
       "                              남자들       빅뱅     빅뱅家의     승리와의      인터뷰       화보  \n",
       "5c6f04ccfc0c4b94ecceef0b  0.00000  0.00000  0.00000  0.00000  0.00000  0.00000  \n",
       "5c6f04ccfc0c4b94ecceef0c  0.00204  0.00204  0.00204  0.00204  0.00204  0.00204  \n",
       "5c6f04ccfc0c4b94ecceef0d  0.00000  0.00000  0.00000  0.00000  0.00000  0.00000  \n",
       "5c6f04ccfc0c4b94ecceef0e  0.00000  0.00000  0.00000  0.00000  0.00000  0.00000  \n",
       "5c6f04ccfc0c4b94ecceef0f  0.00000  0.00000  0.00000  0.00000  0.00000  0.00000  \n",
       "\n",
       "[5 rows x 8115 columns]"
      ]
     },
     "execution_count": 25,
     "metadata": {},
     "output_type": "execute_result"
    }
   ],
   "source": [
    "a_roles_tfidf.model"
   ]
  },
  {
   "cell_type": "code",
   "execution_count": 30,
   "metadata": {},
   "outputs": [
    {
     "name": "stdout",
     "output_type": "stream",
     "text": [
      "Janet Jackson's id is: 5c6f04ccfc0c4b94ecceef0b\n",
      "Justin Timberlake's id is: 5c6f04ccfc0c4b94ecceef0c\n",
      "Kid Rock's id is: 5c6f04ccfc0c4b94ecceef0d\n",
      "Greg Gumbel's id is: 5c6f04ccfc0c4b94ecceef0e\n",
      "Tom Brady's id is: 5c6f04ccfc0c4b94ecceef0f\n"
     ]
    }
   ],
   "source": [
    "for role in a_roles:\n",
    "    print (role['name'] + '\\'s id is: ' + str(role['_id']))"
   ]
  },
  {
   "cell_type": "code",
   "execution_count": 105,
   "metadata": {},
   "outputs": [
    {
     "data": {
      "text/plain": [
       "array([0], dtype=int32)"
      ]
     },
     "execution_count": 105,
     "metadata": {},
     "output_type": "execute_result"
    }
   ],
   "source": [
    "#Transform Roles A & B accoring to models of Roles:\n",
    "import pandas as pd\n",
    "\n",
    "docs_a_r = [p['stemmed_wiki_doc'] for p in a_roles]\n",
    "doc_ids_a_r = [p['_id'] for p in a_roles]\n",
    "\n",
    "a_roles_transformed = model_a.cv_tfidf.transform(docs_a_r).toarray()\n",
    "\n",
    "\n",
    "#import numpy as np\n",
    "#for role in a_roles:\n",
    "#    cpool_a_kmeans.predict(np.array(a_roles_transformed.loc[role['_id']]).reshape(1,-1))\n",
    "cpool_a_kmeans.predict(np.array(a_roles_transformed[4]).reshape(1,-1))"
   ]
  },
  {
   "cell_type": "code",
   "execution_count": 66,
   "metadata": {},
   "outputs": [
    {
     "name": "stdout",
     "output_type": "stream",
     "text": [
      "Michael Lerner (actor) chosen to play Greg Gumbel\n"
     ]
    }
   ],
   "source": [
    "#Greg Gumbel was placed in group 9. Choose a random candidate to play him in the movie. \n",
    "candidates = []\n",
    "for i in zip(cpool_a_kmeans.labels_, a_cstng_pool):\n",
    "    if i[0] == 9:\n",
    "        candidates.append((i[1]['name']))\n",
    "\n",
    "print (f'{np.random.choice(candidates)} chosen to play Greg Gumbel')"
   ]
  },
  {
   "cell_type": "code",
   "execution_count": 106,
   "metadata": {},
   "outputs": [
    {
     "name": "stdout",
     "output_type": "stream",
     "text": [
      "Steve McQueen 0.05403310811370573\n",
      "Sylvester Stallone 0.0602013971787115\n",
      "Woody Allen 0.09141866336359379\n",
      "Harrison Ford 0.09475745401787523\n",
      "Matt Damon 0.10181566982759678\n",
      "Will Smith 0.10246418948405499\n",
      "Joaquin Phoenix 0.10612969815905478\n",
      "Jesse Eisenberg 0.12324032232016979\n",
      "Andrew Garfield 0.12451911863453054\n",
      "Timothée Chalamet 0.13608998159731928\n",
      "Timothée Chalamet\n"
     ]
    }
   ],
   "source": [
    "\n",
    "min_ = -np.inf\n",
    "name = ''\n",
    "person = None\n",
    "for i in zip(cpool_a_kmeans.labels_, a_cstng_pool):\n",
    "    \n",
    "    #Serach the correct cluster\n",
    "    if i[0] == 0:\n",
    "        \n",
    "        #a_roles_transformed is a role\n",
    "        #model_a is the casting pool vector tfdidf\n",
    "        dist = cosine_distance(np.array(a_roles_transformed[4]), model_a.model.loc[i[1]['_id']])\n",
    "        \n",
    "        if dist > min_:\n",
    "            min_ = dist\n",
    "            name = i[1]['name']\n",
    "            person = i[1]\n",
    "            print(name + ' ' + str(dist))\n",
    "            \n",
    "print (name)"
   ]
  },
  {
   "cell_type": "code",
   "execution_count": 86,
   "metadata": {},
   "outputs": [
    {
     "data": {
      "text/plain": [
       "pandas.core.series.Series"
      ]
     },
     "execution_count": 86,
     "metadata": {},
     "output_type": "execute_result"
    }
   ],
   "source": [
    "type(model_a.model.loc[i[1]['_id']])"
   ]
  },
  {
   "cell_type": "code",
   "execution_count": 87,
   "metadata": {},
   "outputs": [
    {
     "data": {
      "text/plain": [
       "pandas.core.series.Series"
      ]
     },
     "execution_count": 87,
     "metadata": {},
     "output_type": "execute_result"
    }
   ],
   "source": [
    "from bson.objectid import ObjectId\n",
    "greg_gumbel = ObjectId('5c6f04ccfc0c4b94ecceef0e')\n",
    "a_roles_tfidf.model.loc[greg_gumbel]"
   ]
  },
  {
   "cell_type": "code",
   "execution_count": 93,
   "metadata": {},
   "outputs": [],
   "source": [
    "def cosine_distance(u, v):\n",
    "    \"\"\"\n",
    "    Returns the cosine of the angle between vectors v and u. This is equal to\n",
    "    u.v / |u||v|.\n",
    "    \"\"\"\n",
    "    return numpy.dot(u, v) / (math.sqrt(numpy.dot(u, u)) * math.sqrt(numpy.dot(v, v)))"
   ]
  },
  {
   "cell_type": "code",
   "execution_count": 19,
   "metadata": {},
   "outputs": [],
   "source": [
    "from nlp.models import Tfidf, TopicModelSVD\n",
    "\n",
    "def get_SVD_model(people):\n",
    "    \n",
    "    docs = [p['stemmed_wiki_doc'] for p in people]\n",
    "    doc_ids = [p['_id'] for p in people]\n",
    "    \n",
    "    model = Tfidf(docs, doc_ids)\n",
    "    topic_model = TopicModelSVD(model.model, model.cv_tfidf)\n",
    "    \n",
    "    return (model, topic_model)"
   ]
  },
  {
   "cell_type": "code",
   "execution_count": 3,
   "metadata": {},
   "outputs": [],
   "source": [
    "cast = cpool.get_casting_pool()\n",
    "docs = [p['stemmed_wiki_doc'] for p in cast]\n",
    "doc_ids = [p['_id'] for p in cast]\n",
    "\n",
    "\n",
    "\n",
    "model = Tfidf(docs, doc_ids)\n",
    "topic_model = TopicModelSVD(model.model, model.cv_tfidf)"
   ]
  },
  {
   "cell_type": "code",
   "execution_count": 5,
   "metadata": {},
   "outputs": [],
   "source": [
    "topic_model = TopicModelSVD(model.model, model.cv_tfidf)"
   ]
  },
  {
   "cell_type": "code",
   "execution_count": 58,
   "metadata": {},
   "outputs": [],
   "source": [
    "from sklearn.cluster import KMeans\n",
    "means = KMeans(n_clusters=15, random_state=51)"
   ]
  },
  {
   "cell_type": "code",
   "execution_count": null,
   "metadata": {},
   "outputs": [],
   "source": [
    "means = KMeans(n_clusters=15, random_state=51)"
   ]
  },
  {
   "cell_type": "code",
   "execution_count": 59,
   "metadata": {},
   "outputs": [
    {
     "data": {
      "text/plain": [
       "MiniBatchKMeans(batch_size=100, compute_labels=True, init='k-means++',\n",
       "        init_size=None, max_iter=100, max_no_improvement=10, n_clusters=20,\n",
       "        n_init=3, random_state=51, reassignment_ratio=0.01, tol=0.0,\n",
       "        verbose=0)"
      ]
     },
     "execution_count": 59,
     "metadata": {},
     "output_type": "execute_result"
    }
   ],
   "source": [
    "means.fit(model.model)"
   ]
  },
  {
   "cell_type": "code",
   "execution_count": 60,
   "metadata": {},
   "outputs": [
    {
     "data": {
      "text/plain": [
       "738.669601596358"
      ]
     },
     "execution_count": 60,
     "metadata": {},
     "output_type": "execute_result"
    }
   ],
   "source": [
    "means.inertia_"
   ]
  },
  {
   "cell_type": "code",
   "execution_count": null,
   "metadata": {},
   "outputs": [],
   "source": []
  },
  {
   "cell_type": "code",
   "execution_count": null,
   "metadata": {},
   "outputs": [],
   "source": []
  },
  {
   "cell_type": "code",
   "execution_count": 39,
   "metadata": {},
   "outputs": [
    {
     "data": {
      "text/plain": [
       "(1060, 80806)"
      ]
     },
     "execution_count": 39,
     "metadata": {},
     "output_type": "execute_result"
    }
   ],
   "source": [
    "np.array(model.model).shape"
   ]
  },
  {
   "cell_type": "code",
   "execution_count": 67,
   "metadata": {},
   "outputs": [
    {
     "ename": "ValueError",
     "evalue": "Expected 2D array, got 1D array instead:\narray=[0. 0. 0. ... 0. 0. 0.].\nReshape your data either using array.reshape(-1, 1) if your data has a single feature or array.reshape(1, -1) if it contains a single sample.",
     "output_type": "error",
     "traceback": [
      "\u001b[0;31m---------------------------------------------------------------------------\u001b[0m",
      "\u001b[0;31mValueError\u001b[0m                                Traceback (most recent call last)",
      "\u001b[0;32m<ipython-input-67-291b21bac8de>\u001b[0m in \u001b[0;36m<module>\u001b[0;34m\u001b[0m\n\u001b[0;32m----> 1\u001b[0;31m \u001b[0mmeans\u001b[0m\u001b[0;34m.\u001b[0m\u001b[0mpredict\u001b[0m\u001b[0;34m(\u001b[0m\u001b[0mnp\u001b[0m\u001b[0;34m.\u001b[0m\u001b[0marray\u001b[0m\u001b[0;34m(\u001b[0m\u001b[0mmodel\u001b[0m\u001b[0;34m.\u001b[0m\u001b[0mmodel\u001b[0m\u001b[0;34m.\u001b[0m\u001b[0miloc\u001b[0m\u001b[0;34m[\u001b[0m\u001b[0;36m4\u001b[0m\u001b[0;34m]\u001b[0m\u001b[0;34m)\u001b[0m\u001b[0;34m)\u001b[0m\u001b[0;34m\u001b[0m\u001b[0;34m\u001b[0m\u001b[0m\n\u001b[0m",
      "\u001b[0;32m/anaconda3/lib/python3.7/site-packages/sklearn/cluster/k_means_.py\u001b[0m in \u001b[0;36mpredict\u001b[0;34m(self, X, sample_weight)\u001b[0m\n\u001b[1;32m   1742\u001b[0m         \u001b[0mcheck_is_fitted\u001b[0m\u001b[0;34m(\u001b[0m\u001b[0mself\u001b[0m\u001b[0;34m,\u001b[0m \u001b[0;34m'cluster_centers_'\u001b[0m\u001b[0;34m)\u001b[0m\u001b[0;34m\u001b[0m\u001b[0;34m\u001b[0m\u001b[0m\n\u001b[1;32m   1743\u001b[0m \u001b[0;34m\u001b[0m\u001b[0m\n\u001b[0;32m-> 1744\u001b[0;31m         \u001b[0mX\u001b[0m \u001b[0;34m=\u001b[0m \u001b[0mself\u001b[0m\u001b[0;34m.\u001b[0m\u001b[0m_check_test_data\u001b[0m\u001b[0;34m(\u001b[0m\u001b[0mX\u001b[0m\u001b[0;34m)\u001b[0m\u001b[0;34m\u001b[0m\u001b[0;34m\u001b[0m\u001b[0m\n\u001b[0m\u001b[1;32m   1745\u001b[0m         \u001b[0;32mreturn\u001b[0m \u001b[0mself\u001b[0m\u001b[0;34m.\u001b[0m\u001b[0m_labels_inertia_minibatch\u001b[0m\u001b[0;34m(\u001b[0m\u001b[0mX\u001b[0m\u001b[0;34m,\u001b[0m \u001b[0msample_weight\u001b[0m\u001b[0;34m)\u001b[0m\u001b[0;34m[\u001b[0m\u001b[0;36m0\u001b[0m\u001b[0;34m]\u001b[0m\u001b[0;34m\u001b[0m\u001b[0;34m\u001b[0m\u001b[0m\n",
      "\u001b[0;32m/anaconda3/lib/python3.7/site-packages/sklearn/cluster/k_means_.py\u001b[0m in \u001b[0;36m_check_test_data\u001b[0;34m(self, X)\u001b[0m\n\u001b[1;32m    931\u001b[0m \u001b[0;34m\u001b[0m\u001b[0m\n\u001b[1;32m    932\u001b[0m     \u001b[0;32mdef\u001b[0m \u001b[0m_check_test_data\u001b[0m\u001b[0;34m(\u001b[0m\u001b[0mself\u001b[0m\u001b[0;34m,\u001b[0m \u001b[0mX\u001b[0m\u001b[0;34m)\u001b[0m\u001b[0;34m:\u001b[0m\u001b[0;34m\u001b[0m\u001b[0;34m\u001b[0m\u001b[0m\n\u001b[0;32m--> 933\u001b[0;31m         \u001b[0mX\u001b[0m \u001b[0;34m=\u001b[0m \u001b[0mcheck_array\u001b[0m\u001b[0;34m(\u001b[0m\u001b[0mX\u001b[0m\u001b[0;34m,\u001b[0m \u001b[0maccept_sparse\u001b[0m\u001b[0;34m=\u001b[0m\u001b[0;34m'csr'\u001b[0m\u001b[0;34m,\u001b[0m \u001b[0mdtype\u001b[0m\u001b[0;34m=\u001b[0m\u001b[0mFLOAT_DTYPES\u001b[0m\u001b[0;34m)\u001b[0m\u001b[0;34m\u001b[0m\u001b[0;34m\u001b[0m\u001b[0m\n\u001b[0m\u001b[1;32m    934\u001b[0m         \u001b[0mn_samples\u001b[0m\u001b[0;34m,\u001b[0m \u001b[0mn_features\u001b[0m \u001b[0;34m=\u001b[0m \u001b[0mX\u001b[0m\u001b[0;34m.\u001b[0m\u001b[0mshape\u001b[0m\u001b[0;34m\u001b[0m\u001b[0;34m\u001b[0m\u001b[0m\n\u001b[1;32m    935\u001b[0m         \u001b[0mexpected_n_features\u001b[0m \u001b[0;34m=\u001b[0m \u001b[0mself\u001b[0m\u001b[0;34m.\u001b[0m\u001b[0mcluster_centers_\u001b[0m\u001b[0;34m.\u001b[0m\u001b[0mshape\u001b[0m\u001b[0;34m[\u001b[0m\u001b[0;36m1\u001b[0m\u001b[0;34m]\u001b[0m\u001b[0;34m\u001b[0m\u001b[0;34m\u001b[0m\u001b[0m\n",
      "\u001b[0;32m/anaconda3/lib/python3.7/site-packages/sklearn/utils/validation.py\u001b[0m in \u001b[0;36mcheck_array\u001b[0;34m(array, accept_sparse, accept_large_sparse, dtype, order, copy, force_all_finite, ensure_2d, allow_nd, ensure_min_samples, ensure_min_features, warn_on_dtype, estimator)\u001b[0m\n\u001b[1;32m    550\u001b[0m                     \u001b[0;34m\"Reshape your data either using array.reshape(-1, 1) if \"\u001b[0m\u001b[0;34m\u001b[0m\u001b[0;34m\u001b[0m\u001b[0m\n\u001b[1;32m    551\u001b[0m                     \u001b[0;34m\"your data has a single feature or array.reshape(1, -1) \"\u001b[0m\u001b[0;34m\u001b[0m\u001b[0;34m\u001b[0m\u001b[0m\n\u001b[0;32m--> 552\u001b[0;31m                     \"if it contains a single sample.\".format(array))\n\u001b[0m\u001b[1;32m    553\u001b[0m \u001b[0;34m\u001b[0m\u001b[0m\n\u001b[1;32m    554\u001b[0m         \u001b[0;31m# in the future np.flexible dtypes will be handled like object dtypes\u001b[0m\u001b[0;34m\u001b[0m\u001b[0;34m\u001b[0m\u001b[0;34m\u001b[0m\u001b[0m\n",
      "\u001b[0;31mValueError\u001b[0m: Expected 2D array, got 1D array instead:\narray=[0. 0. 0. ... 0. 0. 0.].\nReshape your data either using array.reshape(-1, 1) if your data has a single feature or array.reshape(1, -1) if it contains a single sample."
     ]
    }
   ],
   "source": [
    "means.predict()"
   ]
  },
  {
   "cell_type": "code",
   "execution_count": 111,
   "metadata": {},
   "outputs": [
    {
     "name": "stdout",
     "output_type": "stream",
     "text": [
      "Peter O'Toole 0.12631355092771873\n",
      "Richard Burton 0.1330834600937386\n",
      "Laurence Olivier 0.1361747203832702\n",
      "Rod Steiger 0.14307874182390548\n",
      "James Earl Jones 0.14677735250988222\n",
      "Woody Allen 0.14899710934935617\n",
      "Jeff Bridges 0.17907671371299091\n",
      "Robin Williams 0.1797301772873159\n",
      "Will Smith 0.24539435597755532\n",
      "Samuel L. Jackson 0.4274059203214055\n",
      "Samuel L. Jackson\n"
     ]
    }
   ],
   "source": [
    "min_ = -np.inf\n",
    "name = ''\n",
    "person = None\n",
    "for i in zip(cpool_a_kmeans.labels_, a_cstng_pool):\n",
    "    \n",
    "    #Serach the correct cluster\n",
    "    #if i[0] == 0:\n",
    "        \n",
    "    #a_roles_transformed is a role\n",
    "    #model_a is the casting pool vector tfdidf\n",
    "    dist = cosine_distance(np.array(a_roles_transformed[0]), model_a.model.loc[i[1]['_id']])\n",
    "\n",
    "    if dist > min_:\n",
    "        min_ = dist\n",
    "        name = i[1]['name']\n",
    "        person = i[1]\n",
    "        print(name + ' ' + str(dist))\n",
    "\n",
    "print (name)"
   ]
  },
  {
   "cell_type": "code",
   "execution_count": null,
   "metadata": {},
   "outputs": [],
   "source": []
  }
 ],
 "metadata": {
  "kernelspec": {
   "display_name": "Python3 OSX",
   "language": "python",
   "name": "base"
  },
  "language_info": {
   "codemirror_mode": {
    "name": "ipython",
    "version": 3
   },
   "file_extension": ".py",
   "mimetype": "text/x-python",
   "name": "python",
   "nbconvert_exporter": "python",
   "pygments_lexer": "ipython3",
   "version": "3.7.1"
  },
  "toc": {
   "base_numbering": 1,
   "nav_menu": {},
   "number_sections": true,
   "sideBar": true,
   "skip_h1_title": false,
   "title_cell": "Table of Contents",
   "title_sidebar": "Contents",
   "toc_cell": false,
   "toc_position": {},
   "toc_section_display": true,
   "toc_window_display": false
  },
  "varInspector": {
   "cols": {
    "lenName": 16,
    "lenType": 16,
    "lenVar": 40
   },
   "kernels_config": {
    "python": {
     "delete_cmd_postfix": "",
     "delete_cmd_prefix": "del ",
     "library": "var_list.py",
     "varRefreshCmd": "print(var_dic_list())"
    },
    "r": {
     "delete_cmd_postfix": ") ",
     "delete_cmd_prefix": "rm(",
     "library": "var_list.r",
     "varRefreshCmd": "cat(var_dic_list()) "
    }
   },
   "types_to_exclude": [
    "module",
    "function",
    "builtin_function_or_method",
    "instance",
    "_Feature"
   ],
   "window_display": false
  }
 },
 "nbformat": 4,
 "nbformat_minor": 2
}
